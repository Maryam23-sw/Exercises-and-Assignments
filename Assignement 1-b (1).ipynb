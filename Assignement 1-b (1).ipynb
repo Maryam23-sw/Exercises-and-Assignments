{
 "cells": [
  {
   "cell_type": "markdown",
   "id": "b0e54bd3",
   "metadata": {},
   "source": [
    "## Question 1:\n",
    "Write a Python function called greet_user that takes two parameters: name (a string representing the user's name) and greeting (a string representing a greeting message). The function should print the personalized greeting message. If the greeting parameter is not provided, the function should use \"Hello\" as the default greeting.\n",
    "\n",
    "Expected Output:\n",
    "\n",
    "If the user's name is \"Alice\" and no specific greeting is provided, the function should print \"Hello, Alice!\".\n",
    "\n",
    "Please write the Python code for the greet_user function and demonstrate its usage with different examples, both with and without a specific greeting"
   ]
  },
  {
   "cell_type": "code",
   "execution_count": 6,
   "id": "b692411b",
   "metadata": {},
   "outputs": [
    {
     "name": "stdin",
     "output_type": "stream",
     "text": [
      "Enter your name:  Ali \n",
      "Enter a greeting or you can press Enter and hallo will be set:  Hi\n"
     ]
    },
    {
     "name": "stdout",
     "output_type": "stream",
     "text": [
      "Hi, Ali !\n"
     ]
    }
   ],
   "source": [
    "def greet_user(name, greeting=\"Hello\"):\n",
    "    print(f\"{greeting}, {name}!\")\n",
    "\n",
    "user_name = input(\"Enter your name: \")\n",
    "specific_greeting = input(\"Enter a greeting or you can press Enter and hallo will be set: \")\n",
    "\n",
    "if specific_greeting:  \n",
    "    greet_user(user_name, specific_greeting)\n",
    "else:\n",
    "    greet_user(user_name)"
   ]
  },
  {
   "cell_type": "code",
   "execution_count": null,
   "id": "37d812aa",
   "metadata": {},
   "outputs": [],
   "source": []
  },
  {
   "cell_type": "markdown",
   "id": "43a5f688",
   "metadata": {},
   "source": [
    "## Question 2:\n",
    "Write a Python program that takes two tuples as input, each containing integers, and returns a new tuple containing the element-wise sum of the corresponding elements from the input tuples. Assume the input tuples have the same length.\n",
    "\n",
    "Expected Output:\n",
    "\n",
    "If the input tuples are (1, 2, 3) and (4, 5, 6), the program should return (5, 7, 9).\n",
    "Please write the Python code to accomplish this task."
   ]
  },
  {
   "cell_type": "code",
   "execution_count": 7,
   "id": "f2e4bd5e",
   "metadata": {},
   "outputs": [
    {
     "name": "stdin",
     "output_type": "stream",
     "text": [
      "Enter the first tuple of integers  1 2 3 \n",
      "Enter the second tuple of integers  4 5 6\n"
     ]
    },
    {
     "name": "stdout",
     "output_type": "stream",
     "text": [
      " sum of the tuples is: (5, 7, 9)\n"
     ]
    }
   ],
   "source": [
    "def get_tuple_from_user(prompt):\n",
    "    user_input = input(prompt)\n",
    "    result_tuple = ()\n",
    "    number_str = \"\"\n",
    "    \n",
    "    for char in user_input:\n",
    "        if char.isdigit() or char == '-':\n",
    "            number_str += char\n",
    "        elif char == ' ' and number_str:\n",
    "            result_tuple += (int(number_str),)\n",
    "            number_str = \"\"\n",
    "    \n",
    "    if number_str:\n",
    "        result_tuple += (int(number_str),)\n",
    "    \n",
    "    return result_tuple\n",
    "\n",
    "tuple1 = get_tuple_from_user(\"Enter the first tuple of integers \")\n",
    "tuple2 = get_tuple_from_user(\"Enter the second tuple of integers \")\n",
    "\n",
    "result_list = []\n",
    "length = 0\n",
    "for _ in tuple1:\n",
    "    length += 1\n",
    "\n",
    "for i in range(length):\n",
    "    sum_value = 0\n",
    "    sum_value += tuple1[i]\n",
    "    sum_value += tuple2[i]\n",
    "    result_list.append(sum_value)\n",
    "\n",
    "result_tuple = ()\n",
    "for value in result_list:\n",
    "    result_tuple += (value,)\n",
    "\n",
    "print(\" sum of the tuples is:\", result_tuple)"
   ]
  },
  {
   "cell_type": "markdown",
   "id": "eb50ce3a",
   "metadata": {},
   "source": [
    "## Question 3:\n",
    "Write a Python program that prompts the user to guess a secret number between 1 and 10. The program should continue to prompt the user for guesses until they correctly guess the secret number. Provide feedback to the user if their guess is too high or too low.\n",
    "\n",
    "Expected Output:\n",
    "\n",
    "If the secret number is 7 and the user's guesses are 5, 8, 7, the program should print:\n",
    "\n",
    "\"Too low! Try again.\"\n",
    "\n",
    "\"Too high! Try again.\"\n",
    "\n",
    "\"Congratulations! You guessed the secret number 7.\"\n",
    "\n",
    "Please write the Python code for this guessing game using a while loop."
   ]
  },
  {
   "cell_type": "code",
   "execution_count": 13,
   "id": "227d8033",
   "metadata": {},
   "outputs": [
    {
     "name": "stdout",
     "output_type": "stream",
     "text": [
      "6\n"
     ]
    },
    {
     "name": "stdin",
     "output_type": "stream",
     "text": [
      "Guess a number between 1 and 10:  5\n"
     ]
    },
    {
     "name": "stdout",
     "output_type": "stream",
     "text": [
      "Too low! Try again.\n"
     ]
    },
    {
     "name": "stdin",
     "output_type": "stream",
     "text": [
      "Guess a number between 1 and 10:  7\n"
     ]
    },
    {
     "name": "stdout",
     "output_type": "stream",
     "text": [
      "Too high! Try again.\n"
     ]
    },
    {
     "name": "stdin",
     "output_type": "stream",
     "text": [
      "Guess a number between 1 and 10:  6\n"
     ]
    },
    {
     "name": "stdout",
     "output_type": "stream",
     "text": [
      "Congratulations! You guessed the secret number 6\n"
     ]
    }
   ],
   "source": [
    "# Generate a secret number between 1 and 10\n",
    "\n",
    "import random\n",
    "\n",
    "secret_number = random.randint(1, 11)\n",
    "print(secret_number)\n",
    "# Initialize the user's guess to an invalid value\n",
    "guess = 0\n",
    "\n",
    "while guess != secret_number:\n",
    "# Prompt the user to guess the secret number\n",
    "    guess = int(input(\"Guess a number between 1 and 10: \"))\n",
    "    if guess < secret_number:\n",
    "        print(\"Too low! Try again.\")\n",
    "    elif guess > secret_number:\n",
    "        print(\"Too high! Try again.\")\n",
    "\n",
    "print(\"Congratulations! You guessed the secret number\", secret_number)\n",
    "# End of the game"
   ]
  },
  {
   "cell_type": "code",
   "execution_count": null,
   "id": "3d36701b",
   "metadata": {},
   "outputs": [],
   "source": []
  },
  {
   "cell_type": "markdown",
   "id": "e3c169ff",
   "metadata": {},
   "source": [
    "## Question 4:\n",
    "Write a Python program that takes a list of words as input and creates a dictionary where the keys are the unique words in the list, and the values are lists containing the indices (positions) at which each word appears in the list.\n",
    "\n",
    "Expected Output:\n",
    "\n",
    "If the input list is [\"apple\", \"banana\", \"orange\", \"banana\", \"kiwi\", \"apple\"], the program should return {'apple': [0,5], 'banana': [1,3], 'orange': [2], 'kiwi': [4]}.\n",
    "Please write the Python code to accomplish this task."
   ]
  },
  {
   "cell_type": "code",
   "execution_count": null,
   "id": "2ea6eb25",
   "metadata": {},
   "outputs": [],
   "source": []
  },
  {
   "cell_type": "code",
   "execution_count": 15,
   "id": "c1f00882",
   "metadata": {},
   "outputs": [
    {
     "name": "stdout",
     "output_type": "stream",
     "text": [
      "Enter words one by one, type '0' to finish:\n"
     ]
    },
    {
     "name": "stdin",
     "output_type": "stream",
     "text": [
      " apple\n",
      " banana\n",
      " orange\n",
      " banana\n",
      " kiwi\n",
      " apple\n",
      " 0\n"
     ]
    },
    {
     "name": "stdout",
     "output_type": "stream",
     "text": [
      "apple : [0, 5]\n",
      "banana : [1, 3]\n",
      "orange : [2]\n",
      "kiwi : [4]\n"
     ]
    }
   ],
   "source": [
    "# Take a list of words as input\n",
    "words = []\n",
    "print(\"Enter words one by one, type '0' to finish:\")\n",
    "while True:\n",
    "    word = input()\n",
    "    if word == \"0\":\n",
    "        break\n",
    "    words.append(word)\n",
    "\n",
    "# Create a dictionary with word indices\n",
    "result = {}\n",
    "for i in range(len(words)):\n",
    "    word = words[i]\n",
    "    if word not in result:\n",
    "        result[word] = []\n",
    "        for j in range(len(words)):\n",
    "            if words[j] == word:\n",
    "                result[word].append(j)\n",
    "\n",
    "# Print the resulting dictionary\n",
    "for key in result:\n",
    "    print(key, \":\", result[key])\n"
   ]
  },
  {
   "cell_type": "code",
   "execution_count": null,
   "id": "e3d64d4a",
   "metadata": {},
   "outputs": [],
   "source": []
  }
 ],
 "metadata": {
  "kernelspec": {
   "display_name": "Python 3 (ipykernel)",
   "language": "python",
   "name": "python3"
  },
  "language_info": {
   "codemirror_mode": {
    "name": "ipython",
    "version": 3
   },
   "file_extension": ".py",
   "mimetype": "text/x-python",
   "name": "python",
   "nbconvert_exporter": "python",
   "pygments_lexer": "ipython3",
   "version": "3.12.0"
  }
 },
 "nbformat": 4,
 "nbformat_minor": 5
}
